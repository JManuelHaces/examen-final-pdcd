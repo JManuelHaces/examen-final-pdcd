{
 "cells": [
  {
   "cell_type": "markdown",
   "source": [
    "# Reporte de Ejecución del Contenedor de Docker\n",
    "\n",
    "![Imagen Docker](./Data/Imagenes/imagen_docker.png)\n",
    "\n",
    "![Contenedor Docker](./Data/Imagenes/contenedor_docker.png)\n",
    "\n",
    "![terminal](./Data/Imagenes/terminal_contenedor.png)\n",
    "\n",
    "![postman](./Data/Imagenes/postman.png)"
   ],
   "metadata": {
    "collapsed": false
   }
  },
  {
   "cell_type": "code",
   "execution_count": null,
   "outputs": [],
   "source": [],
   "metadata": {
    "collapsed": false
   }
  }
 ],
 "metadata": {
  "kernelspec": {
   "display_name": "Python 3",
   "language": "python",
   "name": "python3"
  },
  "language_info": {
   "codemirror_mode": {
    "name": "ipython",
    "version": 2
   },
   "file_extension": ".py",
   "mimetype": "text/x-python",
   "name": "python",
   "nbconvert_exporter": "python",
   "pygments_lexer": "ipython2",
   "version": "2.7.6"
  }
 },
 "nbformat": 4,
 "nbformat_minor": 0
}
