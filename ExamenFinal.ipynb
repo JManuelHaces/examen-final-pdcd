{
 "cells": [
  {
   "cell_type": "markdown",
   "source": [
    "![Logo ITESO](./Data/Imagenes/logo.png)\n",
    "# Examen Final\n",
    "### Materia: Proyecto de Ciencia de Datos\n",
    "#### José Manuel Haces López - 734759 - Ing. Y Ciencia de Datos - ITESO\n",
    "_______\n",
    "\n",
    "#### Descripción de la Base de Datos\n",
    "<p>En escuelas de E.U.A los maestros desarrollan proyectos para mejorar las condiciones de los estudiantes, resolver problemáticas como el bullying, mejorar el prendizaje, etc. El dataset <b>Projects_cleansed.zip</b> esta formado por las siguientes columnas:<br>\n",
    "</p>\n",
    "\n",
    "<b>Project Title</b> - Nombre del Proyecto<br>\n",
    "<b>Project Short Description </b> - Descripción corta (198 palabras aprox.) y el final de la descripción esta indicada por \"...\"<br>\n",
    "<b>Project Subject Category Tree</b> - es una taxonomía que indica el área al que pertenece el proyecto<br>\n",
    "    <b>Project Cost</b> - es un campo numérico que indica la cantidad que se busca fondear<br>\n",
    "    <b>Project Current Status</b> - Si el proyecto fué fondedado o no<br>\n",
    "\n",
    "_______\n",
    "#### Instrucciones:\n",
    "1. Análisis Exploratorio de Datos.\n",
    "2. Ingeniería de Características - Data Wrangling\n",
    "3. Entrenamiento, validación, evaluación y selección del modelo\n",
    "4. Micro-Servicio (API) para servir el modelo\n",
    "5. Creación de imagen para dicha API. Explicar el procedimiento utilizado para crear la imagen y correr el contenedor. (Adjunte imagenes como prueba del funcionamiento del contenedor de la API)"
   ],
   "metadata": {
    "collapsed": false
   }
  },
  {
   "cell_type": "code",
   "execution_count": 1,
   "outputs": [],
   "source": [
    "# Librerías\n",
    "import numpy as np\n",
    "import pandas as pd\n",
    "import matplotlib.pyplot as plt"
   ],
   "metadata": {
    "collapsed": false
   }
  },
  {
   "cell_type": "markdown",
   "source": [
    "## 0. Carga de Datos"
   ],
   "metadata": {
    "collapsed": false
   }
  },
  {
   "cell_type": "code",
   "execution_count": 2,
   "outputs": [
    {
     "data": {
      "text/plain": "                                       Project Title  \\\n0             Stand Up to Bullying: Together We Can!   \n1                                 Learning in Color!   \n2  Help Second Grade ESL Students Develop Languag...   \n3  Help Bilingual Students Strengthen Reading Com...   \n4                   Help Us Make Each Minute Count!    \n\n                           Project Short Description  \\\n0  Did you know that 1-7 students in grades K-12 ...   \n1  Help us have a fun, interactive listening cent...   \n2  Visiting or moving to a new place can be very ...   \n3  Students at our school are still working hard ...   \n4  \"Idle hands\" were something that Issac Watts s...   \n\n           Project Subject Category Tree  Project Cost Project Current Status  \n0                       Applied Learning        361.80           Fully Funded  \n1  Applied Learning, Literacy & Language        512.85                Expired  \n2                    Literacy & Language        435.92           Fully Funded  \n3                    Literacy & Language        161.26           Fully Funded  \n4                          Special Needs        264.19           Fully Funded  ",
      "text/html": "<div>\n<style scoped>\n    .dataframe tbody tr th:only-of-type {\n        vertical-align: middle;\n    }\n\n    .dataframe tbody tr th {\n        vertical-align: top;\n    }\n\n    .dataframe thead th {\n        text-align: right;\n    }\n</style>\n<table border=\"1\" class=\"dataframe\">\n  <thead>\n    <tr style=\"text-align: right;\">\n      <th></th>\n      <th>Project Title</th>\n      <th>Project Short Description</th>\n      <th>Project Subject Category Tree</th>\n      <th>Project Cost</th>\n      <th>Project Current Status</th>\n    </tr>\n  </thead>\n  <tbody>\n    <tr>\n      <th>0</th>\n      <td>Stand Up to Bullying: Together We Can!</td>\n      <td>Did you know that 1-7 students in grades K-12 ...</td>\n      <td>Applied Learning</td>\n      <td>361.80</td>\n      <td>Fully Funded</td>\n    </tr>\n    <tr>\n      <th>1</th>\n      <td>Learning in Color!</td>\n      <td>Help us have a fun, interactive listening cent...</td>\n      <td>Applied Learning, Literacy &amp; Language</td>\n      <td>512.85</td>\n      <td>Expired</td>\n    </tr>\n    <tr>\n      <th>2</th>\n      <td>Help Second Grade ESL Students Develop Languag...</td>\n      <td>Visiting or moving to a new place can be very ...</td>\n      <td>Literacy &amp; Language</td>\n      <td>435.92</td>\n      <td>Fully Funded</td>\n    </tr>\n    <tr>\n      <th>3</th>\n      <td>Help Bilingual Students Strengthen Reading Com...</td>\n      <td>Students at our school are still working hard ...</td>\n      <td>Literacy &amp; Language</td>\n      <td>161.26</td>\n      <td>Fully Funded</td>\n    </tr>\n    <tr>\n      <th>4</th>\n      <td>Help Us Make Each Minute Count!</td>\n      <td>\"Idle hands\" were something that Issac Watts s...</td>\n      <td>Special Needs</td>\n      <td>264.19</td>\n      <td>Fully Funded</td>\n    </tr>\n  </tbody>\n</table>\n</div>"
     },
     "execution_count": 2,
     "metadata": {},
     "output_type": "execute_result"
    }
   ],
   "source": [
    "# Cargando el Archivo CSV\n",
    "df = pd.read_csv(r'./Data/Projects_cleansed.csv')\n",
    "df.head()"
   ],
   "metadata": {
    "collapsed": false
   }
  },
  {
   "cell_type": "markdown",
   "source": [
    "## 1. Análisis Exploratorio"
   ],
   "metadata": {
    "collapsed": false
   }
  },
  {
   "cell_type": "code",
   "execution_count": 3,
   "outputs": [
    {
     "name": "stdout",
     "output_type": "stream",
     "text": [
      "Contamos con: \n",
      "- 1109981 filas. \n",
      "- 5 columnas/variables.\n"
     ]
    }
   ],
   "source": [
    "# Imprimiendo las dimensiones de nuestra matriz\n",
    "print(f'Contamos con: \\n- {df.shape[0]} filas. \\n- {df.shape[1]} columnas/variables.')"
   ],
   "metadata": {
    "collapsed": false
   }
  },
  {
   "cell_type": "markdown",
   "source": [
    "- De las cuales 4 son variables Independientes:\n",
    "    - Project Title\n",
    "    - Project Short Description\n",
    "    - Project Subject Category Tree\n",
    "    - Project Cost\n",
    "\n",
    "- Nuestra variable dependiente es:\n",
    "    - Project Current Status\n"
   ],
   "metadata": {
    "collapsed": false
   }
  },
  {
   "cell_type": "code",
   "execution_count": 4,
   "outputs": [
    {
     "data": {
      "text/plain": "Project Title                     object\nProject Short Description         object\nProject Subject Category Tree     object\nProject Cost                     float64\nProject Current Status            object\ndtype: object"
     },
     "execution_count": 4,
     "metadata": {},
     "output_type": "execute_result"
    }
   ],
   "source": [
    "# Tipos de datos que tenemos\n",
    "df.dtypes"
   ],
   "metadata": {
    "collapsed": false
   }
  },
  {
   "cell_type": "markdown",
   "source": [
    "Tenemos:\n",
    "- 3 variables independientes que son cadenas de texto.\n",
    "- 1 variable independiente que es flotante (decimal).\n",
    "- 1 Variable dependiente/respuesta que es una cadena de texto."
   ],
   "metadata": {
    "collapsed": false
   }
  },
  {
   "cell_type": "code",
   "execution_count": 8,
   "outputs": [
    {
     "data": {
      "text/plain": "       Project Cost\ncount  1.109981e+06\nmean   7.415194e+02\nstd    1.083264e+03\nmin    3.529000e+01\n25%    3.351200e+02\n50%    5.153500e+02\n75%    8.675100e+02\nmax    2.557377e+05",
      "text/html": "<div>\n<style scoped>\n    .dataframe tbody tr th:only-of-type {\n        vertical-align: middle;\n    }\n\n    .dataframe tbody tr th {\n        vertical-align: top;\n    }\n\n    .dataframe thead th {\n        text-align: right;\n    }\n</style>\n<table border=\"1\" class=\"dataframe\">\n  <thead>\n    <tr style=\"text-align: right;\">\n      <th></th>\n      <th>Project Cost</th>\n    </tr>\n  </thead>\n  <tbody>\n    <tr>\n      <th>count</th>\n      <td>1.109981e+06</td>\n    </tr>\n    <tr>\n      <th>mean</th>\n      <td>7.415194e+02</td>\n    </tr>\n    <tr>\n      <th>std</th>\n      <td>1.083264e+03</td>\n    </tr>\n    <tr>\n      <th>min</th>\n      <td>3.529000e+01</td>\n    </tr>\n    <tr>\n      <th>25%</th>\n      <td>3.351200e+02</td>\n    </tr>\n    <tr>\n      <th>50%</th>\n      <td>5.153500e+02</td>\n    </tr>\n    <tr>\n      <th>75%</th>\n      <td>8.675100e+02</td>\n    </tr>\n    <tr>\n      <th>max</th>\n      <td>2.557377e+05</td>\n    </tr>\n  </tbody>\n</table>\n</div>"
     },
     "execution_count": 8,
     "metadata": {},
     "output_type": "execute_result"
    }
   ],
   "source": [
    "# Estadísticos de la Variable de numérica\n",
    "df.describe()"
   ],
   "metadata": {
    "collapsed": false
   }
  },
  {
   "cell_type": "markdown",
   "source": [
    "## 2. Ingeniería de Características / Data Wrangling"
   ],
   "metadata": {
    "collapsed": false
   }
  },
  {
   "cell_type": "code",
   "execution_count": null,
   "outputs": [],
   "source": [],
   "metadata": {
    "collapsed": false
   }
  }
 ],
 "metadata": {
  "kernelspec": {
   "display_name": "Python 3",
   "language": "python",
   "name": "python3"
  },
  "language_info": {
   "codemirror_mode": {
    "name": "ipython",
    "version": 2
   },
   "file_extension": ".py",
   "mimetype": "text/x-python",
   "name": "python",
   "nbconvert_exporter": "python",
   "pygments_lexer": "ipython2",
   "version": "2.7.6"
  }
 },
 "nbformat": 4,
 "nbformat_minor": 0
}
