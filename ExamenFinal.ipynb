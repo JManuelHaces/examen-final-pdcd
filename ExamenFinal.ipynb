{
 "cells": [
  {
   "cell_type": "markdown",
   "source": [
    "![Logo ITESO](./Data/Imagenes/logo.png)\n",
    "# Examen Final\n",
    "### Materia: Proyecto de Ciencia de Datos\n",
    "#### José Manuel Haces López - 734759 - Ing. Y Ciencia de Datos - ITESO\n",
    "_______\n",
    "\n",
    "#### Descripción de la Base de Datos\n",
    "<p>En escuelas de E.U.A los maestros desarrollan proyectos para mejorar las condiciones de los estudiantes, resolver problemáticas como el bullying, mejorar el prendizaje, etc. El dataset <b>Projects_cleansed.zip</b> esta formado por las siguientes columnas:<br>\n",
    "</p>\n",
    "\n",
    "<b>Project Title</b> - Nombre del Proyecto<br>\n",
    "<b>Project Short Description </b> - Descripción corta (198 palabras aprox.) y el final de la descripción esta indicada por \"...\"<br>\n",
    "<b>Project Subject Category Tree</b> - es una taxonomía que indica el área al que pertenece el proyecto<br>\n",
    "    <b>Project Cost</b> - es un campo numérico que indica la cantidad que se busca fondear<br>\n",
    "    <b>Project Current Status</b> - Si el proyecto fué fondedado o no<br>\n",
    "\n",
    "_______\n",
    "#### Instrucciones:\n",
    "1. Análisis Exploratorio de Datos.\n",
    "2. Ingeniería de Características - Data Wrangling\n",
    "3. Entrenamiento, validación, evaluación y selección del modelo\n",
    "4. Micro-Servicio (API) para servir el modelo\n",
    "5. Creación de imagen para dicha API. Explicar el procedimiento utilizado para crear la imagen y correr el contenedor. (Adjunte imagenes como prueba del funcionamiento del contenedor de la API)"
   ],
   "metadata": {
    "collapsed": false
   }
  },
  {
   "cell_type": "code",
   "execution_count": 1,
   "outputs": [],
   "source": [
    "# Librerías\n",
    "import re\n",
    "import keras\n",
    "import pickle\n",
    "import warnings\n",
    "import numpy as np\n",
    "import pandas as pd\n",
    "import tensorflow as tf\n",
    "from nltk.corpus import stopwords\n",
    "from sklearn.metrics import confusion_matrix\n",
    "from sklearn.preprocessing import MinMaxScaler\n",
    "from sklearn.linear_model import LogisticRegression\n",
    "from sklearn.model_selection import train_test_split\n",
    "from sklearn.feature_extraction.text import CountVectorizer\n",
    "from sklearn.feature_extraction.text import TfidfTransformer\n",
    "\n",
    "warnings.filterwarnings('ignore')"
   ],
   "metadata": {
    "collapsed": false
   }
  },
  {
   "cell_type": "markdown",
   "source": [
    "## 0. Carga de Datos"
   ],
   "metadata": {
    "collapsed": false
   }
  },
  {
   "cell_type": "code",
   "execution_count": 2,
   "outputs": [
    {
     "data": {
      "text/plain": "                                       Project Title  \\\n0             Stand Up to Bullying: Together We Can!   \n1                                 Learning in Color!   \n2  Help Second Grade ESL Students Develop Languag...   \n3  Help Bilingual Students Strengthen Reading Com...   \n4                   Help Us Make Each Minute Count!    \n\n                           Project Short Description  \\\n0  Did you know that 1-7 students in grades K-12 ...   \n1  Help us have a fun, interactive listening cent...   \n2  Visiting or moving to a new place can be very ...   \n3  Students at our school are still working hard ...   \n4  \"Idle hands\" were something that Issac Watts s...   \n\n           Project Subject Category Tree  Project Cost Project Current Status  \n0                       Applied Learning        361.80           Fully Funded  \n1  Applied Learning, Literacy & Language        512.85                Expired  \n2                    Literacy & Language        435.92           Fully Funded  \n3                    Literacy & Language        161.26           Fully Funded  \n4                          Special Needs        264.19           Fully Funded  ",
      "text/html": "<div>\n<style scoped>\n    .dataframe tbody tr th:only-of-type {\n        vertical-align: middle;\n    }\n\n    .dataframe tbody tr th {\n        vertical-align: top;\n    }\n\n    .dataframe thead th {\n        text-align: right;\n    }\n</style>\n<table border=\"1\" class=\"dataframe\">\n  <thead>\n    <tr style=\"text-align: right;\">\n      <th></th>\n      <th>Project Title</th>\n      <th>Project Short Description</th>\n      <th>Project Subject Category Tree</th>\n      <th>Project Cost</th>\n      <th>Project Current Status</th>\n    </tr>\n  </thead>\n  <tbody>\n    <tr>\n      <th>0</th>\n      <td>Stand Up to Bullying: Together We Can!</td>\n      <td>Did you know that 1-7 students in grades K-12 ...</td>\n      <td>Applied Learning</td>\n      <td>361.80</td>\n      <td>Fully Funded</td>\n    </tr>\n    <tr>\n      <th>1</th>\n      <td>Learning in Color!</td>\n      <td>Help us have a fun, interactive listening cent...</td>\n      <td>Applied Learning, Literacy &amp; Language</td>\n      <td>512.85</td>\n      <td>Expired</td>\n    </tr>\n    <tr>\n      <th>2</th>\n      <td>Help Second Grade ESL Students Develop Languag...</td>\n      <td>Visiting or moving to a new place can be very ...</td>\n      <td>Literacy &amp; Language</td>\n      <td>435.92</td>\n      <td>Fully Funded</td>\n    </tr>\n    <tr>\n      <th>3</th>\n      <td>Help Bilingual Students Strengthen Reading Com...</td>\n      <td>Students at our school are still working hard ...</td>\n      <td>Literacy &amp; Language</td>\n      <td>161.26</td>\n      <td>Fully Funded</td>\n    </tr>\n    <tr>\n      <th>4</th>\n      <td>Help Us Make Each Minute Count!</td>\n      <td>\"Idle hands\" were something that Issac Watts s...</td>\n      <td>Special Needs</td>\n      <td>264.19</td>\n      <td>Fully Funded</td>\n    </tr>\n  </tbody>\n</table>\n</div>"
     },
     "execution_count": 2,
     "metadata": {},
     "output_type": "execute_result"
    }
   ],
   "source": [
    "# Cargando el Archivo CSV\n",
    "df = pd.read_csv(r'./Data/Projects_cleansed.csv')\n",
    "df.head()"
   ],
   "metadata": {
    "collapsed": false
   }
  },
  {
   "cell_type": "markdown",
   "source": [
    "## 1. Análisis Exploratorio"
   ],
   "metadata": {
    "collapsed": false
   }
  },
  {
   "cell_type": "code",
   "execution_count": 3,
   "outputs": [
    {
     "name": "stdout",
     "output_type": "stream",
     "text": [
      "Contamos con: \n",
      "- 1109981 filas. \n",
      "- 5 columnas/variables.\n"
     ]
    }
   ],
   "source": [
    "# Imprimiendo las dimensiones de nuestra matriz\n",
    "print(f'Contamos con: \\n- {df.shape[0]} filas. \\n- {df.shape[1]} columnas/variables.')"
   ],
   "metadata": {
    "collapsed": false
   }
  },
  {
   "cell_type": "markdown",
   "source": [
    "- De las cuales 4 son variables Independientes:\n",
    "    - Project Title\n",
    "    - Project Short Description\n",
    "    - Project Subject Category Tree\n",
    "    - Project Cost\n",
    "\n",
    "- Nuestra variable dependiente es:\n",
    "    - Project Current Status\n"
   ],
   "metadata": {
    "collapsed": false
   }
  },
  {
   "cell_type": "code",
   "execution_count": 4,
   "outputs": [
    {
     "data": {
      "text/plain": "Project Title                     object\nProject Short Description         object\nProject Subject Category Tree     object\nProject Cost                     float64\nProject Current Status            object\ndtype: object"
     },
     "execution_count": 4,
     "metadata": {},
     "output_type": "execute_result"
    }
   ],
   "source": [
    "# Tipos de datos que tenemos\n",
    "df.dtypes"
   ],
   "metadata": {
    "collapsed": false
   }
  },
  {
   "cell_type": "markdown",
   "source": [
    "Tenemos:\n",
    "- 3 variables independientes que son cadenas de texto.\n",
    "- 1 variable independiente que es flotante (decimal).\n",
    "- 1 Variable dependiente/respuesta que es una cadena de texto."
   ],
   "metadata": {
    "collapsed": false
   }
  },
  {
   "cell_type": "code",
   "execution_count": 5,
   "outputs": [
    {
     "data": {
      "text/plain": "       Project Cost\ncount  1.109981e+06\nmean   7.415194e+02\nstd    1.083264e+03\nmin    3.529000e+01\n25%    3.351200e+02\n50%    5.153500e+02\n75%    8.675100e+02\nmax    2.557377e+05",
      "text/html": "<div>\n<style scoped>\n    .dataframe tbody tr th:only-of-type {\n        vertical-align: middle;\n    }\n\n    .dataframe tbody tr th {\n        vertical-align: top;\n    }\n\n    .dataframe thead th {\n        text-align: right;\n    }\n</style>\n<table border=\"1\" class=\"dataframe\">\n  <thead>\n    <tr style=\"text-align: right;\">\n      <th></th>\n      <th>Project Cost</th>\n    </tr>\n  </thead>\n  <tbody>\n    <tr>\n      <th>count</th>\n      <td>1.109981e+06</td>\n    </tr>\n    <tr>\n      <th>mean</th>\n      <td>7.415194e+02</td>\n    </tr>\n    <tr>\n      <th>std</th>\n      <td>1.083264e+03</td>\n    </tr>\n    <tr>\n      <th>min</th>\n      <td>3.529000e+01</td>\n    </tr>\n    <tr>\n      <th>25%</th>\n      <td>3.351200e+02</td>\n    </tr>\n    <tr>\n      <th>50%</th>\n      <td>5.153500e+02</td>\n    </tr>\n    <tr>\n      <th>75%</th>\n      <td>8.675100e+02</td>\n    </tr>\n    <tr>\n      <th>max</th>\n      <td>2.557377e+05</td>\n    </tr>\n  </tbody>\n</table>\n</div>"
     },
     "execution_count": 5,
     "metadata": {},
     "output_type": "execute_result"
    }
   ],
   "source": [
    "# Estadísticos de la Variable de numérica\n",
    "df.describe()"
   ],
   "metadata": {
    "collapsed": false
   }
  },
  {
   "cell_type": "code",
   "execution_count": 6,
   "outputs": [
    {
     "name": "stdout",
     "output_type": "stream",
     "text": [
      "- Project Title tiene 926099 valores únicos.\n",
      "- Project Short Description tiene 841865 valores únicos.\n",
      "- Project Subject Category Tree tiene 51 valores únicos.\n",
      "- Project Cost tiene 163022 valores únicos.\n",
      "- Project Current Status tiene 3 valores únicos.\n"
     ]
    }
   ],
   "source": [
    "# Sacando el número de valores únicos por variable\n",
    "for i in df.columns:\n",
    "    print(f'- {i} tiene {len(df[i].unique())} valores únicos.')"
   ],
   "metadata": {
    "collapsed": false
   }
  },
  {
   "cell_type": "markdown",
   "source": [
    "- Con esto podemos ver que tenemos dos variables categóricas en nuestro dataset:\n",
    "    - Project Subject Category Tree\n",
    "    - Project Current Status\n"
   ],
   "metadata": {
    "collapsed": false
   }
  },
  {
   "cell_type": "code",
   "execution_count": 7,
   "outputs": [
    {
     "name": "stdout",
     "output_type": "stream",
     "text": [
      "Project Subject Category Tree\n",
      "Literacy & Language                           250504\n",
      "Math & Science                                172515\n",
      "Literacy & Language, Math & Science           153967\n",
      "Music & The Arts                               56828\n",
      "Health & Sports                                48690\n",
      "Applied Learning                               44991\n",
      "Literacy & Language, Special Needs             41308\n",
      "Special Needs                                  35554\n",
      "Applied Learning, Literacy & Language          31144\n",
      "Math & Science, Literacy & Language            27956\n",
      "Literacy & Language, Music & The Arts          21175\n",
      "History & Civics                               20545\n",
      "Applied Learning, Special Needs                20478\n",
      "Math & Science, Special Needs                  18712\n",
      "History & Civics, Literacy & Language          18639\n",
      "Math & Science, Music & The Arts               16890\n",
      "Math & Science, Applied Learning               15407\n",
      "Applied Learning, Math & Science               12962\n",
      "Literacy & Language, History & Civics          12039\n",
      "Applied Learning, Music & The Arts             10599\n",
      "Warmth, Care & Hunger                          10295\n",
      "Health & Sports, Special Needs                  9962\n",
      "Math & Science, History & Civics                8021\n",
      "Literacy & Language, Applied Learning           7721\n",
      "Applied Learning, Health & Sports               6726\n",
      "Health & Sports, Literacy & Language            4934\n",
      "History & Civics, Math & Science                4867\n",
      "History & Civics, Music & The Arts              4454\n",
      "Math & Science, Health & Sports                 3663\n",
      "Special Needs, Music & The Arts                 3284\n",
      "Applied Learning, History & Civics              3262\n",
      "History & Civics, Special Needs                 2348\n",
      "Health & Sports, Applied Learning               1714\n",
      "Music & The Arts, Special Needs                 1663\n",
      "Health & Sports, Math & Science                 1636\n",
      "Health & Sports, Music & The Arts               1399\n",
      "Literacy & Language, Health & Sports             727\n",
      "History & Civics, Applied Learning               611\n",
      "Special Needs, Health & Sports                   422\n",
      "Health & Sports, History & Civics                308\n",
      "Music & The Arts, History & Civics               282\n",
      "Music & The Arts, Health & Sports                217\n",
      "Music & The Arts, Applied Learning               177\n",
      "History & Civics, Health & Sports                164\n",
      "Health & Sports, Warmth, Care & Hunger            64\n",
      "Special Needs, Warmth, Care & Hunger              49\n",
      "Literacy & Language, Warmth, Care & Hunger        36\n",
      "Applied Learning, Warmth, Care & Hunger           35\n",
      "Math & Science, Warmth, Care & Hunger             25\n",
      "Music & The Arts, Warmth, Care & Hunger            7\n",
      "History & Civics, Warmth, Care & Hunger            5\n",
      "dtype: int64\n",
      "\n",
      "\n",
      "Project Current Status\n",
      "Fully Funded    826740\n",
      "Expired         241390\n",
      "Live             41851\n",
      "dtype: int64\n",
      "\n",
      "\n"
     ]
    }
   ],
   "source": [
    "cat = ['Project Subject Category Tree', 'Project Current Status']\n",
    "\n",
    "for i in cat:\n",
    "    print(df.value_counts(i))\n",
    "    print('\\n')"
   ],
   "metadata": {
    "collapsed": false
   }
  },
  {
   "cell_type": "code",
   "execution_count": 8,
   "outputs": [
    {
     "data": {
      "text/plain": "Project Title                    0\nProject Short Description        0\nProject Subject Category Tree    0\nProject Cost                     0\nProject Current Status           0\ndtype: int64"
     },
     "execution_count": 8,
     "metadata": {},
     "output_type": "execute_result"
    }
   ],
   "source": [
    "# Número de NaN en nuestro Dataset\n",
    "df.isna().sum()"
   ],
   "metadata": {
    "collapsed": false
   }
  },
  {
   "cell_type": "markdown",
   "source": [
    "## 2. Ingeniería de Características / Data Wrangling\n",
    "### 2.1. Eliminando Outliers de la Variable 'Project Cost'\n",
    "- Como pudimos ver en los estadísticos de la variable, tenemos valores muy grandes que nos van a generar ruido, por lo que lo mejor será eliminarlos o cambiarlos."
   ],
   "metadata": {
    "collapsed": false
   }
  },
  {
   "cell_type": "code",
   "execution_count": 9,
   "outputs": [
    {
     "data": {
      "text/plain": "<AxesSubplot:>"
     },
     "execution_count": 9,
     "metadata": {},
     "output_type": "execute_result"
    },
    {
     "data": {
      "text/plain": "<Figure size 640x480 with 1 Axes>",
      "image/png": "[encoded data removed]"
     },
     "metadata": {},
     "output_type": "display_data"
    }
   ],
   "source": [
    "# Histograma de la variable numérica\n",
    "df['Project Cost'].hist()"
   ],
   "metadata": {
    "collapsed": false
   }
  },
  {
   "cell_type": "code",
   "execution_count": 10,
   "outputs": [
    {
     "name": "stdout",
     "output_type": "stream",
     "text": [
      "El límite superior será de: 5137.7\n",
      "Se eliminarán 5550 filas.\n",
      "Len del Df sin Outliers es de 1104431 filas.\n"
     ]
    }
   ],
   "source": [
    "# Calculando el Percentil 99.5 para la variable, es decir, tomar el 99.5% de los datos\n",
    "# Se deja fuera el 0.5% de los últimos datos.\n",
    "p99 = np.percentile(df['Project Cost'], 99.5)\n",
    "print(f'El límite superior será de: {np.round(p99, decimals=2)}')\n",
    "\n",
    "# Eliminando los outliers, todo lo que sea mayor al valor del percentil\n",
    "outliers = df[df['Project Cost'] > p99]\n",
    "print(f'Se eliminarán {len(outliers)} filas.')\n",
    "\n",
    "# Creando el Df sin Outliers\n",
    "df = df[df['Project Cost'] < p99]\n",
    "print(f'Len del Df sin Outliers es de {len(df)} filas.')"
   ],
   "metadata": {
    "collapsed": false
   }
  },
  {
   "cell_type": "markdown",
   "source": [
    "### 2.2. Encoding de Variables Categóricas\n",
    "Nuestras variables categóricas son:\n",
    "- Project Subject Category Tree (Independiente)\n",
    "- Project Current Status (Dependiente)\n",
    "\n",
    "#### 2.2.1. Cambiando variable 'Project Current Status'"
   ],
   "metadata": {
    "collapsed": false
   }
  },
  {
   "cell_type": "code",
   "execution_count": 11,
   "outputs": [
    {
     "data": {
      "text/plain": "Fully Funded    823969\nExpired         239051\nLive             41411\nName: Project Current Status, dtype: int64"
     },
     "execution_count": 11,
     "metadata": {},
     "output_type": "execute_result"
    }
   ],
   "source": [
    "# Viendo la cantidad de datos por categoría\n",
    "df['Project Current Status'].value_counts()"
   ],
   "metadata": {
    "collapsed": false
   }
  },
  {
   "cell_type": "markdown",
   "source": [
    "- Asumiremos que 'Live' y 'Fully Founded' son las categorías para los que sí fondearon, por lo que los juntaremos en la misma etiqueta (1).\n",
    "- Por lo que 'Expired' tendrá la etiqueta de los no fondeados (0)."
   ],
   "metadata": {
    "collapsed": false
   }
  },
  {
   "cell_type": "code",
   "execution_count": 12,
   "outputs": [
    {
     "data": {
      "text/plain": "1    865380\n0    239051\nName: Project Current Status, dtype: int64"
     },
     "execution_count": 12,
     "metadata": {},
     "output_type": "execute_result"
    }
   ],
   "source": [
    "# Diccionario donde están los cambios para las etiquetas\n",
    "var_resp_dic = {\n",
    "    'Fully Funded': 1,\n",
    "    'Live': 1,\n",
    "    'Expired': 0\n",
    "    }\n",
    "\n",
    "# Haciendo el cambio a la variable\n",
    "df['Project Current Status'].replace(var_resp_dic, inplace=True)\n",
    "df['Project Current Status'].value_counts()"
   ],
   "metadata": {
    "collapsed": false
   }
  },
  {
   "cell_type": "markdown",
   "source": [
    "#### 2.2.2. Cambiando variable 'Project Subject Category Tree'"
   ],
   "metadata": {
    "collapsed": false
   }
  },
  {
   "cell_type": "code",
   "execution_count": 13,
   "outputs": [
    {
     "data": {
      "text/plain": "Project Subject Category Tree Freq  Project Subject Category Tree             \n0.226315                            Literacy & Language                           249949\n0.155057                            Math & Science                                171250\n0.138853                            Literacy & Language, Math & Science           153354\n0.051096                            Music & The Arts                               56432\n0.043795                            Health & Sports                                48369\n0.040505                            Applied Learning                               44735\n0.037294                            Literacy & Language, Special Needs             41189\n0.032130                            Special Needs                                  35485\n0.028057                            Applied Learning, Literacy & Language          30987\n0.025173                            Math & Science, Literacy & Language            27802\n0.019112                            Literacy & Language, Music & The Arts          21108\n0.018478                            Applied Learning, Special Needs                20408\n0.018417                            History & Civics                               20340\n0.016828                            Math & Science, Special Needs                  18585\n0.016754                            History & Civics, Literacy & Language          18504\n0.015229                            Math & Science, Music & The Arts               16819\n0.013775                            Math & Science, Applied Learning               15214\n0.011628                            Applied Learning, Math & Science               12842\n0.010806                            Literacy & Language, History & Civics          11934\n0.009546                            Applied Learning, Music & The Arts             10543\n0.009304                            Warmth, Care & Hunger                          10276\n0.008997                            Health & Sports, Special Needs                  9937\n0.007156                            Math & Science, History & Civics                7903\n0.006969                            Literacy & Language, Applied Learning           7697\n0.006051                            Applied Learning, Health & Sports               6683\n0.004462                            Health & Sports, Literacy & Language            4928\n0.004385                            History & Civics, Math & Science                4843\n0.004002                            History & Civics, Music & The Arts              4420\n0.003296                            Math & Science, Health & Sports                 3640\n0.002967                            Special Needs, Music & The Arts                 3277\n0.002877                            Applied Learning, History & Civics              3178\n0.002102                            History & Civics, Special Needs                 2322\n0.001543                            Health & Sports, Applied Learning               1704\n0.001498                            Music & The Arts, Special Needs                 1654\n0.001477                            Health & Sports, Math & Science                 1631\n0.001262                            Health & Sports, Music & The Arts               1394\n0.000657                            Literacy & Language, Health & Sports             726\n0.000540                            History & Civics, Applied Learning               596\n0.000379                            Special Needs, Health & Sports                   419\n0.000277                            Health & Sports, History & Civics                306\n0.000251                            Music & The Arts, History & Civics               277\n0.000189                            Music & The Arts, Health & Sports                209\n0.000160                            Music & The Arts, Applied Learning               177\n0.000148                            History & Civics, Health & Sports                164\n0.000058                            Health & Sports, Warmth, Care & Hunger            64\n0.000044                            Special Needs, Warmth, Care & Hunger              49\n0.000033                            Literacy & Language, Warmth, Care & Hunger        36\n0.000032                            Applied Learning, Warmth, Care & Hunger           35\n0.000023                            Math & Science, Warmth, Care & Hunger             25\n0.000006                            Music & The Arts, Warmth, Care & Hunger            7\n0.000005                            History & Civics, Warmth, Care & Hunger            5\ndtype: int64"
     },
     "execution_count": 13,
     "metadata": {},
     "output_type": "execute_result"
    }
   ],
   "source": [
    "# Creando un vector con el porcentaje de Frecuencia por categoría\n",
    "freq = df.groupby('Project Subject Category Tree').size() / len(df)\n",
    "\n",
    "# Creando la variable y mapeando el cambio\n",
    "df.loc[:, 'Project Subject Category Tree Freq'] = df['Project Subject Category Tree'].map(freq)\n",
    "\n",
    "# Mostrando los resultados\n",
    "df[['Project Subject Category Tree Freq', 'Project Subject Category Tree']].value_counts()"
   ],
   "metadata": {
    "collapsed": false
   }
  },
  {
   "cell_type": "code",
   "execution_count": 14,
   "outputs": [
    {
     "data": {
      "text/plain": "{'Literacy & Language': 0.22631472676880673,\n 'Math & Science': 0.15505721950941254,\n 'Literacy & Language, Math & Science': 0.13885340052932235,\n 'Music & The Arts': 0.0510959942268915,\n 'Health & Sports': 0.04379540233839869,\n 'Applied Learning': 0.04050502023213763,\n 'Literacy & Language, Special Needs': 0.037294317164223025,\n 'Special Needs': 0.032129666769585424,\n 'Applied Learning, Literacy & Language': 0.028056981377741118,\n 'Math & Science, Literacy & Language': 0.025173143455770437,\n 'Literacy & Language, Music & The Arts': 0.019112103879735356,\n 'Applied Learning, Special Needs': 0.01847829334743411,\n 'History & Civics': 0.01841672318143913,\n 'Math & Science, Special Needs': 0.016827669632598144,\n 'History & Civics, Literacy & Language': 0.016754328699574713,\n 'Math & Science, Music & The Arts': 0.015228656203963851,\n 'Math & Science, Applied Learning': 0.013775419197758846,\n 'Applied Learning, Math & Science': 0.011627706936875187,\n 'Literacy & Language, History & Civics': 0.01080556413211871,\n 'Applied Learning, Music & The Arts': 0.009546092060074373,\n 'Warmth, Care & Hunger': 0.009304338614182325,\n 'Health & Sports, Special Needs': 0.008997393227825006,\n 'Math & Science, History & Civics': 0.0071557209096810934,\n 'Literacy & Language, Applied Learning': 0.006969199524461012,\n 'Applied Learning, Health & Sports': 0.006051079696241775,\n 'Health & Sports, Literacy & Language': 0.004462026147400789,\n 'History & Civics, Math & Science': 0.0043850634399070654,\n 'History & Civics, Music & The Arts': 0.0040020607896735965,\n 'Math & Science, Health & Sports': 0.0032958147679664914,\n 'Special Needs, Music & The Arts': 0.0029671387347874156,\n 'Applied Learning, History & Civics': 0.0028774998166476674,\n 'History & Civics, Special Needs': 0.002102440080004998,\n 'Health & Sports, Applied Learning': 0.001542875924344753,\n 'Music & The Arts, Special Needs': 0.0014976037434660924,\n 'Health & Sports, Math & Science': 0.0014767785402619085,\n 'Health & Sports, Music & The Arts': 0.0012621884028970573,\n 'Literacy & Language, Health & Sports': 0.0006573520663581519,\n 'History & Civics, Applied Learning': 0.0005396443960736343,\n 'Special Needs, Health & Sports': 0.0003793808757631758,\n 'Health & Sports, History & Civics': 0.00027706574697740284,\n 'Music & The Arts, History & Civics': 0.0002508078820677797,\n 'Music & The Arts, Health & Sports': 0.0001892377160728013,\n 'Music & The Arts, Applied Learning': 0.00016026352031045852,\n 'History & Civics, Health & Sports': 0.00014849275328200675,\n 'Health & Sports, Warmth, Care & Hunger': 5.7948391524685565e-05,\n 'Special Needs, Warmth, Care & Hunger': 4.436673726108738e-05,\n 'Literacy & Language, Warmth, Care & Hunger': 3.259597023263563e-05,\n 'Applied Learning, Warmth, Care & Hunger': 3.169052661506242e-05,\n 'Math & Science, Warmth, Care & Hunger': 2.26360904393303e-05,\n 'Music & The Arts, Warmth, Care & Hunger': 6.338105323012483e-06,\n 'History & Civics, Warmth, Care & Hunger': 4.5272180878660595e-06}"
     },
     "execution_count": 14,
     "metadata": {},
     "output_type": "execute_result"
    }
   ],
   "source": [
    "a = df[['Project Subject Category Tree Freq', 'Project Subject Category Tree']].value_counts().reset_index()\n",
    "a = a[['Project Subject Category Tree', 'Project Subject Category Tree Freq']]\n",
    "\n",
    "dict_trans = dict(a.values)\n",
    "dict_trans"
   ],
   "metadata": {
    "collapsed": false
   }
  },
  {
   "cell_type": "code",
   "execution_count": 15,
   "outputs": [],
   "source": [
    "# Exportando el modelo\n",
    "pickle.dump(dict_trans, open(r'./Modelos/Dict_trans.pkl', 'wb'))"
   ],
   "metadata": {
    "collapsed": false
   }
  },
  {
   "cell_type": "markdown",
   "source": [
    "### 2.3. Limpiando Texto de variable 'Project Short Description'"
   ],
   "metadata": {
    "collapsed": false
   }
  },
  {
   "cell_type": "code",
   "execution_count": 16,
   "outputs": [
    {
     "data": {
      "text/plain": "                           Project Short Description  \\\n0  Did you know that 1-7 students in grades K-12 ...   \n1  Help us have a fun, interactive listening cent...   \n2  Visiting or moving to a new place can be very ...   \n3  Students at our school are still working hard ...   \n4  \"Idle hands\" were something that Issac Watts s...   \n\n                   Project Short Description Cleaned  \n0  did you know that students in grades k is eith...  \n1  help us have a fun interactive listening cente...  \n2  visiting or moving to a new place can be very ...  \n3  students at our school are still working hard ...  \n4   idle hands were something that issac watts sp...  ",
      "text/html": "<div>\n<style scoped>\n    .dataframe tbody tr th:only-of-type {\n        vertical-align: middle;\n    }\n\n    .dataframe tbody tr th {\n        vertical-align: top;\n    }\n\n    .dataframe thead th {\n        text-align: right;\n    }\n</style>\n<table border=\"1\" class=\"dataframe\">\n  <thead>\n    <tr style=\"text-align: right;\">\n      <th></th>\n      <th>Project Short Description</th>\n      <th>Project Short Description Cleaned</th>\n    </tr>\n  </thead>\n  <tbody>\n    <tr>\n      <th>0</th>\n      <td>Did you know that 1-7 students in grades K-12 ...</td>\n      <td>did you know that students in grades k is eith...</td>\n    </tr>\n    <tr>\n      <th>1</th>\n      <td>Help us have a fun, interactive listening cent...</td>\n      <td>help us have a fun interactive listening cente...</td>\n    </tr>\n    <tr>\n      <th>2</th>\n      <td>Visiting or moving to a new place can be very ...</td>\n      <td>visiting or moving to a new place can be very ...</td>\n    </tr>\n    <tr>\n      <th>3</th>\n      <td>Students at our school are still working hard ...</td>\n      <td>students at our school are still working hard ...</td>\n    </tr>\n    <tr>\n      <th>4</th>\n      <td>\"Idle hands\" were something that Issac Watts s...</td>\n      <td>idle hands were something that issac watts sp...</td>\n    </tr>\n  </tbody>\n</table>\n</div>"
     },
     "execution_count": 16,
     "metadata": {},
     "output_type": "execute_result"
    }
   ],
   "source": [
    "# Creando una columna con el texto limpio de caracteres\n",
    "df[\"Project Short Description Cleaned\"] = df['Project Short Description'].apply(\n",
    "    lambda txt: re.sub(\n",
    "        r\"[\\W\\d\\s\\.+]\", # Quitando los caracteres especiales, números, más de un espacio y más de 1 punto (.)\n",
    "        ' ', # Replace con nada\n",
    "        txt.lower() # Poniendo en minúsculas\n",
    "    )\n",
    ")\n",
    "\n",
    "# Quitando espacios extras y dejando solo 1\n",
    "df[\"Project Short Description Cleaned\"] = df['Project Short Description Cleaned'].apply(\n",
    "    lambda txt: re.sub(\n",
    "        ' +',\n",
    "        ' ',\n",
    "        txt)\n",
    ")\n",
    "\n",
    "df[['Project Short Description', 'Project Short Description Cleaned']].head()"
   ],
   "metadata": {
    "collapsed": false
   }
  },
  {
   "cell_type": "markdown",
   "source": [
    "### 2.4. Cambiando Nombre de Columnas\n",
    "- Este paso solo se hace para Facilitar el uso de las columnas"
   ],
   "metadata": {
    "collapsed": false
   }
  },
  {
   "cell_type": "code",
   "execution_count": 17,
   "outputs": [
    {
     "data": {
      "text/plain": "Index(['Project_Title', 'Project_Short_Description',\n       'Project_Subject_Category_Tree', 'Project_Cost',\n       'Project_Current_Status', 'Project_Subject_Category_Tree_Freq',\n       'Project_Short_Description_Cleaned'],\n      dtype='object')"
     },
     "execution_count": 17,
     "metadata": {},
     "output_type": "execute_result"
    }
   ],
   "source": [
    "# Lista con las columnas originales\n",
    "cols = list(df.columns)\n",
    "\n",
    "# Ciclo para cambiar las columnas\n",
    "for i in range(len(cols)):\n",
    "    col = cols[i]\n",
    "    col = col.replace(' ', '_')\n",
    "    cols[i] = col\n",
    "\n",
    "# Cambiando el nombre de las columnas\n",
    "df.columns = cols\n",
    "df.columns"
   ],
   "metadata": {
    "collapsed": false
   }
  },
  {
   "cell_type": "markdown",
   "source": [
    "### 2.5. Convirtiendo de Texto a Vector\n",
    "- Este paso se hace para poder ingresar la descripción del proyecto al modelo"
   ],
   "metadata": {
    "collapsed": false
   }
  },
  {
   "cell_type": "code",
   "execution_count": 18,
   "outputs": [],
   "source": [
    "# Cargando corpus de stopwords en inglés\n",
    "stopwrds = stopwords.words('english')\n",
    "\n",
    "# Creando el objeto vectorizador\n",
    "vectorizer = CountVectorizer(max_features=200,\n",
    "                             min_df=3,\n",
    "                             max_df=0.75,\n",
    "                             stop_words=stopwrds\n",
    "                             )\n",
    "\n",
    "# Creando el BOW (Bag Of Words) con el vectorizador\n",
    "bow = vectorizer.fit_transform(df['Project_Short_Description']).toarray()"
   ],
   "metadata": {
    "collapsed": false
   }
  },
  {
   "cell_type": "code",
   "execution_count": 19,
   "outputs": [],
   "source": [
    "# Exportando el modelo\n",
    "pickle.dump(vectorizer, open(r'./Modelos/Vectorizer.pkl', 'wb'))"
   ],
   "metadata": {
    "collapsed": false
   }
  },
  {
   "cell_type": "code",
   "execution_count": 20,
   "outputs": [
    {
     "data": {
      "text/plain": "   0    1    2    3    4    5    6    7    8    9    ...  190  191      192  \\\n0  0.0  0.0  0.0  0.0  0.0  0.0  0.0  0.0  0.0  0.0  ...  0.0  0.0  0.00000   \n1  0.0  0.0  0.0  0.0  0.0  0.0  0.0  0.0  0.0  0.0  ...  0.0  0.0  0.00000   \n2  0.0  0.0  0.0  0.0  0.0  0.0  0.0  0.0  0.0  0.0  ...  0.0  0.0  0.00000   \n3  0.0  0.0  0.0  0.0  0.0  0.0  0.0  0.0  0.0  0.0  ...  0.0  0.0  0.00000   \n4  0.0  0.0  0.0  0.0  0.0  0.0  0.0  0.0  0.0  0.0  ...  0.0  0.0  0.19601   \n\n        193  194  195  196  197  198  199  \n0  0.000000  0.0  0.0  0.0  0.0  0.0  0.0  \n1  0.000000  0.0  0.0  0.0  0.0  0.0  0.0  \n2  0.000000  0.0  0.0  0.0  0.0  0.0  0.0  \n3  0.346706  0.0  0.0  0.0  0.0  0.0  0.0  \n4  0.000000  0.0  0.0  0.0  0.0  0.0  0.0  \n\n[5 rows x 200 columns]",
      "text/html": "<div>\n<style scoped>\n    .dataframe tbody tr th:only-of-type {\n        vertical-align: middle;\n    }\n\n    .dataframe tbody tr th {\n        vertical-align: top;\n    }\n\n    .dataframe thead th {\n        text-align: right;\n    }\n</style>\n<table border=\"1\" class=\"dataframe\">\n  <thead>\n    <tr style=\"text-align: right;\">\n      <th></th>\n      <th>0</th>\n      <th>1</th>\n      <th>2</th>\n      <th>3</th>\n      <th>4</th>\n      <th>5</th>\n      <th>6</th>\n      <th>7</th>\n      <th>8</th>\n      <th>9</th>\n      <th>...</th>\n      <th>190</th>\n      <th>191</th>\n      <th>192</th>\n      <th>193</th>\n      <th>194</th>\n      <th>195</th>\n      <th>196</th>\n      <th>197</th>\n      <th>198</th>\n      <th>199</th>\n    </tr>\n  </thead>\n  <tbody>\n    <tr>\n      <th>0</th>\n      <td>0.0</td>\n      <td>0.0</td>\n      <td>0.0</td>\n      <td>0.0</td>\n      <td>0.0</td>\n      <td>0.0</td>\n      <td>0.0</td>\n      <td>0.0</td>\n      <td>0.0</td>\n      <td>0.0</td>\n      <td>...</td>\n      <td>0.0</td>\n      <td>0.0</td>\n      <td>0.00000</td>\n      <td>0.000000</td>\n      <td>0.0</td>\n      <td>0.0</td>\n      <td>0.0</td>\n      <td>0.0</td>\n      <td>0.0</td>\n      <td>0.0</td>\n    </tr>\n    <tr>\n      <th>1</th>\n      <td>0.0</td>\n      <td>0.0</td>\n      <td>0.0</td>\n      <td>0.0</td>\n      <td>0.0</td>\n      <td>0.0</td>\n      <td>0.0</td>\n      <td>0.0</td>\n      <td>0.0</td>\n      <td>0.0</td>\n      <td>...</td>\n      <td>0.0</td>\n      <td>0.0</td>\n      <td>0.00000</td>\n      <td>0.000000</td>\n      <td>0.0</td>\n      <td>0.0</td>\n      <td>0.0</td>\n      <td>0.0</td>\n      <td>0.0</td>\n      <td>0.0</td>\n    </tr>\n    <tr>\n      <th>2</th>\n      <td>0.0</td>\n      <td>0.0</td>\n      <td>0.0</td>\n      <td>0.0</td>\n      <td>0.0</td>\n      <td>0.0</td>\n      <td>0.0</td>\n      <td>0.0</td>\n      <td>0.0</td>\n      <td>0.0</td>\n      <td>...</td>\n      <td>0.0</td>\n      <td>0.0</td>\n      <td>0.00000</td>\n      <td>0.000000</td>\n      <td>0.0</td>\n      <td>0.0</td>\n      <td>0.0</td>\n      <td>0.0</td>\n      <td>0.0</td>\n      <td>0.0</td>\n    </tr>\n    <tr>\n      <th>3</th>\n      <td>0.0</td>\n      <td>0.0</td>\n      <td>0.0</td>\n      <td>0.0</td>\n      <td>0.0</td>\n      <td>0.0</td>\n      <td>0.0</td>\n      <td>0.0</td>\n      <td>0.0</td>\n      <td>0.0</td>\n      <td>...</td>\n      <td>0.0</td>\n      <td>0.0</td>\n      <td>0.00000</td>\n      <td>0.346706</td>\n      <td>0.0</td>\n      <td>0.0</td>\n      <td>0.0</td>\n      <td>0.0</td>\n      <td>0.0</td>\n      <td>0.0</td>\n    </tr>\n    <tr>\n      <th>4</th>\n      <td>0.0</td>\n      <td>0.0</td>\n      <td>0.0</td>\n      <td>0.0</td>\n      <td>0.0</td>\n      <td>0.0</td>\n      <td>0.0</td>\n      <td>0.0</td>\n      <td>0.0</td>\n      <td>0.0</td>\n      <td>...</td>\n      <td>0.0</td>\n      <td>0.0</td>\n      <td>0.19601</td>\n      <td>0.000000</td>\n      <td>0.0</td>\n      <td>0.0</td>\n      <td>0.0</td>\n      <td>0.0</td>\n      <td>0.0</td>\n      <td>0.0</td>\n    </tr>\n  </tbody>\n</table>\n<p>5 rows × 200 columns</p>\n</div>"
     },
     "execution_count": 20,
     "metadata": {},
     "output_type": "execute_result"
    }
   ],
   "source": [
    "# Creando el Objeto para TF-IDF\n",
    "transformer = TfidfTransformer()\n",
    "# Entrenando el transformer\n",
    "transformer = transformer.fit(bow)\n",
    "\n",
    "# Ejecutando la transformación\n",
    "my_tfidf = transformer.fit_transform(bow).toarray()\n",
    "my_tfidf = pd.DataFrame(my_tfidf)\n",
    "my_tfidf.head()"
   ],
   "metadata": {
    "collapsed": false
   }
  },
  {
   "cell_type": "code",
   "execution_count": 21,
   "outputs": [],
   "source": [
    "# Exportando el modelo\n",
    "pickle.dump(transformer, open(r'./Modelos/TfIdf_Model.pkl', 'wb'))"
   ],
   "metadata": {
    "collapsed": false
   }
  },
  {
   "cell_type": "markdown",
   "source": [
    "### 2.6. Creando Dataset Final\n",
    "- Se tomarán las nuevas variables limpias y se eliminará el título, ya que se tomó la decisión de que el description engloba el mismo."
   ],
   "metadata": {
    "collapsed": false
   }
  },
  {
   "cell_type": "code",
   "execution_count": 27,
   "outputs": [
    {
     "data": {
      "text/plain": "   Project_Current_Status  Project_Cost  Project_Subject_Category_Tree_Freq  \\\n0                     1.0        361.80                            0.040505   \n1                     0.0        512.85                            0.028057   \n2                     1.0        435.92                            0.226315   \n3                     1.0        161.26                            0.226315   \n4                     1.0        264.19                            0.032130   \n\n     0    1    2    3    4    5    6  ...  190  191      192       193  194  \\\n0  0.0  0.0  0.0  0.0  0.0  0.0  0.0  ...  0.0  0.0  0.00000  0.000000  0.0   \n1  0.0  0.0  0.0  0.0  0.0  0.0  0.0  ...  0.0  0.0  0.00000  0.000000  0.0   \n2  0.0  0.0  0.0  0.0  0.0  0.0  0.0  ...  0.0  0.0  0.00000  0.000000  0.0   \n3  0.0  0.0  0.0  0.0  0.0  0.0  0.0  ...  0.0  0.0  0.00000  0.346706  0.0   \n4  0.0  0.0  0.0  0.0  0.0  0.0  0.0  ...  0.0  0.0  0.19601  0.000000  0.0   \n\n   195  196  197  198  199  \n0  0.0  0.0  0.0  0.0  0.0  \n1  0.0  0.0  0.0  0.0  0.0  \n2  0.0  0.0  0.0  0.0  0.0  \n3  0.0  0.0  0.0  0.0  0.0  \n4  0.0  0.0  0.0  0.0  0.0  \n\n[5 rows x 203 columns]",
      "text/html": "<div>\n<style scoped>\n    .dataframe tbody tr th:only-of-type {\n        vertical-align: middle;\n    }\n\n    .dataframe tbody tr th {\n        vertical-align: top;\n    }\n\n    .dataframe thead th {\n        text-align: right;\n    }\n</style>\n<table border=\"1\" class=\"dataframe\">\n  <thead>\n    <tr style=\"text-align: right;\">\n      <th></th>\n      <th>Project_Current_Status</th>\n      <th>Project_Cost</th>\n      <th>Project_Subject_Category_Tree_Freq</th>\n      <th>0</th>\n      <th>1</th>\n      <th>2</th>\n      <th>3</th>\n      <th>4</th>\n      <th>5</th>\n      <th>6</th>\n      <th>...</th>\n      <th>190</th>\n      <th>191</th>\n      <th>192</th>\n      <th>193</th>\n      <th>194</th>\n      <th>195</th>\n      <th>196</th>\n      <th>197</th>\n      <th>198</th>\n      <th>199</th>\n    </tr>\n  </thead>\n  <tbody>\n    <tr>\n      <th>0</th>\n      <td>1.0</td>\n      <td>361.80</td>\n      <td>0.040505</td>\n      <td>0.0</td>\n      <td>0.0</td>\n      <td>0.0</td>\n      <td>0.0</td>\n      <td>0.0</td>\n      <td>0.0</td>\n      <td>0.0</td>\n      <td>...</td>\n      <td>0.0</td>\n      <td>0.0</td>\n      <td>0.00000</td>\n      <td>0.000000</td>\n      <td>0.0</td>\n      <td>0.0</td>\n      <td>0.0</td>\n      <td>0.0</td>\n      <td>0.0</td>\n      <td>0.0</td>\n    </tr>\n    <tr>\n      <th>1</th>\n      <td>0.0</td>\n      <td>512.85</td>\n      <td>0.028057</td>\n      <td>0.0</td>\n      <td>0.0</td>\n      <td>0.0</td>\n      <td>0.0</td>\n      <td>0.0</td>\n      <td>0.0</td>\n      <td>0.0</td>\n      <td>...</td>\n      <td>0.0</td>\n      <td>0.0</td>\n      <td>0.00000</td>\n      <td>0.000000</td>\n      <td>0.0</td>\n      <td>0.0</td>\n      <td>0.0</td>\n      <td>0.0</td>\n      <td>0.0</td>\n      <td>0.0</td>\n    </tr>\n    <tr>\n      <th>2</th>\n      <td>1.0</td>\n      <td>435.92</td>\n      <td>0.226315</td>\n      <td>0.0</td>\n      <td>0.0</td>\n      <td>0.0</td>\n      <td>0.0</td>\n      <td>0.0</td>\n      <td>0.0</td>\n      <td>0.0</td>\n      <td>...</td>\n      <td>0.0</td>\n      <td>0.0</td>\n      <td>0.00000</td>\n      <td>0.000000</td>\n      <td>0.0</td>\n      <td>0.0</td>\n      <td>0.0</td>\n      <td>0.0</td>\n      <td>0.0</td>\n      <td>0.0</td>\n    </tr>\n    <tr>\n      <th>3</th>\n      <td>1.0</td>\n      <td>161.26</td>\n      <td>0.226315</td>\n      <td>0.0</td>\n      <td>0.0</td>\n      <td>0.0</td>\n      <td>0.0</td>\n      <td>0.0</td>\n      <td>0.0</td>\n      <td>0.0</td>\n      <td>...</td>\n      <td>0.0</td>\n      <td>0.0</td>\n      <td>0.00000</td>\n      <td>0.346706</td>\n      <td>0.0</td>\n      <td>0.0</td>\n      <td>0.0</td>\n      <td>0.0</td>\n      <td>0.0</td>\n      <td>0.0</td>\n    </tr>\n    <tr>\n      <th>4</th>\n      <td>1.0</td>\n      <td>264.19</td>\n      <td>0.032130</td>\n      <td>0.0</td>\n      <td>0.0</td>\n      <td>0.0</td>\n      <td>0.0</td>\n      <td>0.0</td>\n      <td>0.0</td>\n      <td>0.0</td>\n      <td>...</td>\n      <td>0.0</td>\n      <td>0.0</td>\n      <td>0.19601</td>\n      <td>0.000000</td>\n      <td>0.0</td>\n      <td>0.0</td>\n      <td>0.0</td>\n      <td>0.0</td>\n      <td>0.0</td>\n      <td>0.0</td>\n    </tr>\n  </tbody>\n</table>\n<p>5 rows × 203 columns</p>\n</div>"
     },
     "execution_count": 27,
     "metadata": {},
     "output_type": "execute_result"
    }
   ],
   "source": [
    "# Tomando las variables creadas en este apartado\n",
    "df_nuevo = df[['Project_Current_Status', 'Project_Cost', 'Project_Subject_Category_Tree_Freq']]\n",
    "\n",
    "# Uniendo las variables seleccionadas y la vectorización del description en el dataset final\n",
    "df_final = pd.concat([df_nuevo, my_tfidf], axis=1)\n",
    "df_final = df_final.astype(float)\n",
    "df_final.dropna(inplace=True)\n",
    "df_final.head()"
   ],
   "metadata": {
    "collapsed": false
   }
  },
  {
   "cell_type": "markdown",
   "source": [
    "### 2.7. Normalizando Dataset Final"
   ],
   "metadata": {
    "collapsed": false
   }
  },
  {
   "cell_type": "code",
   "execution_count": 28,
   "outputs": [
    {
     "data": {
      "text/plain": "   Project_Current_Status         0         1    2    3    4    5    6    7  \\\n0                     1.0  0.063992  0.178960  0.0  0.0  0.0  0.0  0.0  0.0   \n1                     0.0  0.093596  0.123956  0.0  0.0  0.0  0.0  0.0  0.0   \n2                     1.0  0.078518  1.000000  0.0  0.0  0.0  0.0  0.0  0.0   \n3                     1.0  0.024689  1.000000  0.0  0.0  0.0  0.0  0.0  0.0   \n4                     1.0  0.044862  0.141952  0.0  0.0  0.0  0.0  0.0  0.0   \n\n     8  ...  192  193      194       195  196  197  198  199  200  201  \n0  0.0  ...  0.0  0.0  0.00000  0.000000  0.0  0.0  0.0  0.0  0.0  0.0  \n1  0.0  ...  0.0  0.0  0.00000  0.000000  0.0  0.0  0.0  0.0  0.0  0.0  \n2  0.0  ...  0.0  0.0  0.00000  0.000000  0.0  0.0  0.0  0.0  0.0  0.0  \n3  0.0  ...  0.0  0.0  0.00000  0.346706  0.0  0.0  0.0  0.0  0.0  0.0  \n4  0.0  ...  0.0  0.0  0.19601  0.000000  0.0  0.0  0.0  0.0  0.0  0.0  \n\n[5 rows x 203 columns]",
      "text/html": "<div>\n<style scoped>\n    .dataframe tbody tr th:only-of-type {\n        vertical-align: middle;\n    }\n\n    .dataframe tbody tr th {\n        vertical-align: top;\n    }\n\n    .dataframe thead th {\n        text-align: right;\n    }\n</style>\n<table border=\"1\" class=\"dataframe\">\n  <thead>\n    <tr style=\"text-align: right;\">\n      <th></th>\n      <th>Project_Current_Status</th>\n      <th>0</th>\n      <th>1</th>\n      <th>2</th>\n      <th>3</th>\n      <th>4</th>\n      <th>5</th>\n      <th>6</th>\n      <th>7</th>\n      <th>8</th>\n      <th>...</th>\n      <th>192</th>\n      <th>193</th>\n      <th>194</th>\n      <th>195</th>\n      <th>196</th>\n      <th>197</th>\n      <th>198</th>\n      <th>199</th>\n      <th>200</th>\n      <th>201</th>\n    </tr>\n  </thead>\n  <tbody>\n    <tr>\n      <th>0</th>\n      <td>1.0</td>\n      <td>0.063992</td>\n      <td>0.178960</td>\n      <td>0.0</td>\n      <td>0.0</td>\n      <td>0.0</td>\n      <td>0.0</td>\n      <td>0.0</td>\n      <td>0.0</td>\n      <td>0.0</td>\n      <td>...</td>\n      <td>0.0</td>\n      <td>0.0</td>\n      <td>0.00000</td>\n      <td>0.000000</td>\n      <td>0.0</td>\n      <td>0.0</td>\n      <td>0.0</td>\n      <td>0.0</td>\n      <td>0.0</td>\n      <td>0.0</td>\n    </tr>\n    <tr>\n      <th>1</th>\n      <td>0.0</td>\n      <td>0.093596</td>\n      <td>0.123956</td>\n      <td>0.0</td>\n      <td>0.0</td>\n      <td>0.0</td>\n      <td>0.0</td>\n      <td>0.0</td>\n      <td>0.0</td>\n      <td>0.0</td>\n      <td>...</td>\n      <td>0.0</td>\n      <td>0.0</td>\n      <td>0.00000</td>\n      <td>0.000000</td>\n      <td>0.0</td>\n      <td>0.0</td>\n      <td>0.0</td>\n      <td>0.0</td>\n      <td>0.0</td>\n      <td>0.0</td>\n    </tr>\n    <tr>\n      <th>2</th>\n      <td>1.0</td>\n      <td>0.078518</td>\n      <td>1.000000</td>\n      <td>0.0</td>\n      <td>0.0</td>\n      <td>0.0</td>\n      <td>0.0</td>\n      <td>0.0</td>\n      <td>0.0</td>\n      <td>0.0</td>\n      <td>...</td>\n      <td>0.0</td>\n      <td>0.0</td>\n      <td>0.00000</td>\n      <td>0.000000</td>\n      <td>0.0</td>\n      <td>0.0</td>\n      <td>0.0</td>\n      <td>0.0</td>\n      <td>0.0</td>\n      <td>0.0</td>\n    </tr>\n    <tr>\n      <th>3</th>\n      <td>1.0</td>\n      <td>0.024689</td>\n      <td>1.000000</td>\n      <td>0.0</td>\n      <td>0.0</td>\n      <td>0.0</td>\n      <td>0.0</td>\n      <td>0.0</td>\n      <td>0.0</td>\n      <td>0.0</td>\n      <td>...</td>\n      <td>0.0</td>\n      <td>0.0</td>\n      <td>0.00000</td>\n      <td>0.346706</td>\n      <td>0.0</td>\n      <td>0.0</td>\n      <td>0.0</td>\n      <td>0.0</td>\n      <td>0.0</td>\n      <td>0.0</td>\n    </tr>\n    <tr>\n      <th>4</th>\n      <td>1.0</td>\n      <td>0.044862</td>\n      <td>0.141952</td>\n      <td>0.0</td>\n      <td>0.0</td>\n      <td>0.0</td>\n      <td>0.0</td>\n      <td>0.0</td>\n      <td>0.0</td>\n      <td>0.0</td>\n      <td>...</td>\n      <td>0.0</td>\n      <td>0.0</td>\n      <td>0.19601</td>\n      <td>0.000000</td>\n      <td>0.0</td>\n      <td>0.0</td>\n      <td>0.0</td>\n      <td>0.0</td>\n      <td>0.0</td>\n      <td>0.0</td>\n    </tr>\n  </tbody>\n</table>\n<p>5 rows × 203 columns</p>\n</div>"
     },
     "execution_count": 28,
     "metadata": {},
     "output_type": "execute_result"
    }
   ],
   "source": [
    "# Vector con la variable de respuesta\n",
    "y = df_final['Project_Current_Status']\n",
    "\n",
    "# Creando el objeto para normalizar\n",
    "norm = MinMaxScaler()\n",
    "# Entrenando y transformando\n",
    "df_esc = df_final.drop('Project_Current_Status', axis=1)\n",
    "scaled_df_final = norm.fit_transform(df_esc)\n",
    "scaled_df_final = pd.DataFrame(scaled_df_final)\n",
    "scaled_df_final = pd.concat([y, scaled_df_final], axis=1)\n",
    "scaled_df_final.head()"
   ],
   "metadata": {
    "collapsed": false
   }
  },
  {
   "cell_type": "code",
   "execution_count": 29,
   "outputs": [],
   "source": [
    "# Exportando el modelo de noramlización\n",
    "pickle.dump(norm, open(r'./Modelos/Norm_Model.pkl', 'wb'))"
   ],
   "metadata": {
    "collapsed": false
   }
  },
  {
   "cell_type": "markdown",
   "source": [
    "### 2.8. Separando en Train y Test"
   ],
   "metadata": {
    "collapsed": false
   }
  },
  {
   "cell_type": "code",
   "execution_count": 30,
   "outputs": [
    {
     "name": "stdout",
     "output_type": "stream",
     "text": [
      "Long Train: 883515. \n",
      "Long Test: 220879.\n"
     ]
    }
   ],
   "source": [
    "X_train, X_test, y_train, y_test = train_test_split(\n",
    "    scaled_df_final.drop('Project_Current_Status', axis=1),\n",
    "    scaled_df_final['Project_Current_Status'],\n",
    "    train_size=0.8,\n",
    "    random_state=42)\n",
    "\n",
    "print(f'Long Train: {len(X_train)}. \\nLong Test: {len(X_test)}.')"
   ],
   "metadata": {
    "collapsed": false
   }
  },
  {
   "cell_type": "markdown",
   "source": [
    "## 3. Modelo\n",
    "### 3.1. Regresión Logística"
   ],
   "metadata": {
    "collapsed": false
   }
  },
  {
   "cell_type": "code",
   "execution_count": 21,
   "outputs": [
    {
     "data": {
      "text/plain": "array([[  3492,  44071],\n       [  3832, 168390]], dtype=int64)"
     },
     "execution_count": 21,
     "metadata": {},
     "output_type": "execute_result"
    }
   ],
   "source": [
    "# Creando el Modelo\n",
    "model_lr = LogisticRegression()\n",
    "\n",
    "# Entrenando el Modelo\n",
    "model_lr.fit(X_train, y_train)\n",
    "\n",
    "# Predienciendo con nuestro Modelo\n",
    "y_pred = model_lr.predict(X_test)\n",
    "\n",
    "# Evaluamos qué tan bueno es nuestro modelo con una matriz de confusión\n",
    "matrix = confusion_matrix(y_test, y_pred)\n",
    "matrix"
   ],
   "metadata": {
    "collapsed": false
   }
  },
  {
   "cell_type": "code",
   "execution_count": 22,
   "outputs": [
    {
     "data": {
      "text/plain": "0.782"
     },
     "execution_count": 22,
     "metadata": {},
     "output_type": "execute_result"
    }
   ],
   "source": [
    "# Accuracy de nuestro modelo (TP+TN/4)\n",
    "np.round(model_lr.score(X_test, y_test), decimals=4)"
   ],
   "metadata": {
    "collapsed": false
   }
  },
  {
   "cell_type": "code",
   "execution_count": 26,
   "outputs": [],
   "source": [
    "# Exportando Modelo\n",
    "pickle.dump(model_lr, open(r'./Modelos/Logistic_Reg.pkl', 'wb'))"
   ],
   "metadata": {
    "collapsed": false
   }
  },
  {
   "cell_type": "markdown",
   "source": [
    "### 3.2. Red Neuronal Secuencial"
   ],
   "metadata": {
    "collapsed": false
   }
  },
  {
   "cell_type": "code",
   "execution_count": 23,
   "outputs": [
    {
     "name": "stdout",
     "output_type": "stream",
     "text": [
      " 3262/21979 [===>..........................] - ETA: 51s - loss: 7.6934 - accuracy: 0.7827"
     ]
    }
   ],
   "source": [
    "# Dividiendo el Train y el Val para el modelo\n",
    "X_train_nn, X_val, y_train_nn, y_val = train_test_split(X_train, y_train, train_size=.8, random_state=42)"
   ],
   "metadata": {
    "collapsed": false
   }
  },
  {
   "cell_type": "code",
   "execution_count": 34,
   "outputs": [
    {
     "data": {
      "text/plain": "323059     1.0\n77720      1.0\n287684     1.0\n329103     1.0\n1083605    1.0\n          ... \n35926      1.0\n288942     0.0\n74365      0.0\n713115     0.0\n1066482    1.0\nName: 0, Length: 703309, dtype: float64"
     },
     "execution_count": 34,
     "metadata": {},
     "output_type": "execute_result"
    }
   ],
   "source": [
    "y_train_nn"
   ],
   "metadata": {
    "collapsed": false
   }
  },
  {
   "cell_type": "code",
   "execution_count": 24,
   "outputs": [
    {
     "name": "stdout",
     "output_type": "stream",
     "text": [
      "Epoch 1/25\n",
      "21979/21979 [==============================] - 76s 3ms/step - loss: 7.6932 - accuracy: 0.7823 - val_loss: 7.6933 - val_accuracy: 0.7818\n",
      "Epoch 2/25\n",
      "21979/21979 [==============================] - 70s 3ms/step - loss: 7.6932 - accuracy: 0.7823 - val_loss: 7.6933 - val_accuracy: 0.7818\n",
      "Epoch 3/25\n",
      "21979/21979 [==============================] - 67s 3ms/step - loss: 7.6932 - accuracy: 0.7823 - val_loss: 7.6933 - val_accuracy: 0.7818\n",
      "Epoch 4/25\n",
      "21979/21979 [==============================] - 71s 3ms/step - loss: 7.6932 - accuracy: 0.7823 - val_loss: 7.6933 - val_accuracy: 0.7818\n",
      "Epoch 5/25\n",
      "21979/21979 [==============================] - 77s 4ms/step - loss: 7.6932 - accuracy: 0.7823 - val_loss: 7.6933 - val_accuracy: 0.7818\n",
      "Epoch 6/25\n",
      "21979/21979 [==============================] - 78s 4ms/step - loss: 7.6932 - accuracy: 0.7823 - val_loss: 7.6933 - val_accuracy: 0.7818\n"
     ]
    },
    {
     "data": {
      "text/plain": "<keras.callbacks.History at 0x29dc5e45ea0>"
     },
     "execution_count": 24,
     "metadata": {},
     "output_type": "execute_result"
    }
   ],
   "source": [
    "# Creando la arquitectura de la Red Neuronal\n",
    "model_nn = tf.keras.Sequential([\n",
    "    tf.keras.layers.Dense(1),\n",
    "    tf.keras.layers.Dense(128, activation='relu'),\n",
    "    tf.keras.layers.Dense(64, activation='relu'),\n",
    "    tf.keras.layers.Dense(64, activation='relu'),\n",
    "    tf.keras.layers.Dense(16, activation='relu'),\n",
    "    tf.keras.layers.Dense(2, activation='linear')\n",
    "])\n",
    "\n",
    "# Compilando el modelo y dandole los parámetros que queremos\n",
    "model_nn.compile(optimizer=keras.optimizers.Adam(learning_rate=0.03),\n",
    "                 loss='binary_crossentropy',\n",
    "                 metrics=['accuracy'])\n",
    "\n",
    "# Entrenando el Modelo\n",
    "model_nn.fit(x=X_train_nn,\n",
    "             y=y_train_nn,\n",
    "             validation_data=(X_val, y_val),\n",
    "             epochs=25,\n",
    "             callbacks=[keras.callbacks.EarlyStopping(patience=5)])"
   ],
   "metadata": {
    "collapsed": false
   }
  },
  {
   "cell_type": "code",
   "execution_count": 29,
   "outputs": [],
   "source": [
    "# Exportando Modelo\n",
    "model_nn.save(r'./Modelos/CNN.h5')"
   ],
   "metadata": {
    "collapsed": false
   }
  },
  {
   "cell_type": "markdown",
   "source": [
    "## 4. Conclusiones\n",
    "- Se tomará el modelo de Regresión Logística, ya que conseguimos un buen accuracy, que es el mismo que la red Neuronal, por lo que seleccionamos el más fácil de entrenar e interpretar.\n",
    "- Así mismo, se tomó la decisión de tomar 200 features en el TfIdf, para poder capturar la mayor parte del texto. No se tomó un número más grande debido a que nuestra variable de descripción es de 192 carácteres, por lo que es pequeña y no se vio la necesidad de sacar más.\n",
    "- Por último, la elección del modelo NN, fue debido a que estos tienen un buen performance en problemas de clasificación, sin embargo, en esta ocasión obtuvimos lo mismo, por lo que la regresión se seleccionó ya que es modelo rápido de entrenar, y siempre se dice que lo más fácil es lo mejor."
   ],
   "metadata": {
    "collapsed": false
   }
  },
  {
   "cell_type": "code",
   "execution_count": null,
   "outputs": [],
   "source": [],
   "metadata": {
    "collapsed": false
   }
  }
 ],
 "metadata": {
  "kernelspec": {
   "display_name": "Python 3",
   "language": "python",
   "name": "python3"
  },
  "language_info": {
   "codemirror_mode": {
    "name": "ipython",
    "version": 2
   },
   "file_extension": ".py",
   "mimetype": "text/x-python",
   "name": "python",
   "nbconvert_exporter": "python",
   "pygments_lexer": "ipython2",
   "version": "2.7.6"
  }
 },
 "nbformat": 4,
 "nbformat_minor": 0
}
